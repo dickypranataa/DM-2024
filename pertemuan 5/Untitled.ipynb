{
 "cells": [
  {
   "cell_type": "code",
   "execution_count": 22,
   "id": "9ea9c469-18a9-4e36-b971-688245a6958c",
   "metadata": {},
   "outputs": [],
   "source": [
    "import pandas as pd\n",
    "from sklearn.model_selection import train_test_split, GridSearchCV\n",
    "from sklearn.naive_bayes import GaussianNB\n",
    "from sklearn.preprocessing import StandardScaler, LabelEncoder\n",
    "from sklearn.impute import SimpleImputer\n",
    "from sklearn.metrics import accuracy_score, confusion_matrix, classification_report\n",
    "import joblib"
   ]
  },
  {
   "cell_type": "code",
   "execution_count": 23,
   "id": "4e4a815e-8fd0-4fd5-92f7-3fe6911a854b",
   "metadata": {},
   "outputs": [],
   "source": [
    "# 1. Memuat Dataset\n",
    "data = pd.read_csv(\"Social_Network_Ads.csv\")"
   ]
  },
  {
   "cell_type": "code",
   "execution_count": 24,
   "id": "b54b07c7-7c9b-4439-b845-19df20d4aae6",
   "metadata": {},
   "outputs": [
    {
     "name": "stdout",
     "output_type": "stream",
     "text": [
      "Nilai yang hilang per kolom:\n",
      "User ID            0\n",
      "Gender             0\n",
      "Age                0\n",
      "EstimatedSalary    0\n",
      "Purchased          0\n",
      "dtype: int64\n"
     ]
    }
   ],
   "source": [
    "# 2. Memeriksa Nilai yang Hilang\n",
    "print(\"Nilai yang hilang per kolom:\")\n",
    "print(data.isnull().sum())"
   ]
  },
  {
   "cell_type": "code",
   "execution_count": 25,
   "id": "4361b7e3-03f2-461a-ad2a-3aa078e5caa1",
   "metadata": {},
   "outputs": [],
   "source": [
    "# 3. Menangani Nilai yang Hilang\n",
    "imputer = SimpleImputer(strategy='median')\n",
    "data[['Age', 'EstimatedSalary']] = imputer.fit_transform(data[['Age', 'EstimatedSalary']])"
   ]
  },
  {
   "cell_type": "code",
   "execution_count": 26,
   "id": "72ae59d5-9f15-4f40-b38d-f72e706d6521",
   "metadata": {},
   "outputs": [
    {
     "name": "stdout",
     "output_type": "stream",
     "text": [
      "Unik nilai di kolom 'Gender': ['Male' 'Female']\n"
     ]
    }
   ],
   "source": [
    "# Cek apakah 'Gender' adalah kategorikal atau numerik\n",
    "print(\"Unik nilai di kolom 'Gender':\", data['Gender'].unique())\n"
   ]
  },
  {
   "cell_type": "code",
   "execution_count": 27,
   "id": "7239db4e-7a2e-47fc-8b12-31fb42200172",
   "metadata": {},
   "outputs": [],
   "source": [
    "# Jika 'Gender' adalah kategorikal, lakukan imputasi dengan modus\n",
    "if data['Gender'].dtype == 'object':\n",
    "    imputer = SimpleImputer(strategy='most_frequent')\n",
    "    data['Gender'] = imputer.fit_transform(data[['Gender']]).ravel()"
   ]
  },
  {
   "cell_type": "code",
   "execution_count": 28,
   "id": "5577eef3-89da-4774-9b4a-fc53d80189b1",
   "metadata": {},
   "outputs": [],
   "source": [
    "# 4. Encoding Fitur Kategorikal\n",
    "label_encoder = LabelEncoder()\n",
    "data['Gender'] = label_encoder.fit_transform(data['Gender'])"
   ]
  },
  {
   "cell_type": "code",
   "execution_count": 29,
   "id": "d17453d7-2483-477a-b0f4-7864475e31f5",
   "metadata": {},
   "outputs": [],
   "source": [
    "# 5. Normalisasi atau Skalasi Fitur Numerik\n",
    "scaler = StandardScaler()\n",
    "data[['Age', 'EstimatedSalary']] = scaler.fit_transform(data[['Age', 'EstimatedSalary']])"
   ]
  },
  {
   "cell_type": "code",
   "execution_count": 30,
   "id": "a8477822-2de8-4241-b916-99a0ed653d0f",
   "metadata": {},
   "outputs": [],
   "source": [
    "# 6. Menghapus Kolom yang Tidak Relevan (User ID)\n",
    "data = data.drop(columns=['User ID'])  # Hapus kolom User ID"
   ]
  },
  {
   "cell_type": "code",
   "execution_count": 31,
   "id": "922853a8-19de-42a0-8026-51659a907f67",
   "metadata": {},
   "outputs": [],
   "source": [
    "# 7. Menghapus Duplikasi\n",
    "data = data.drop_duplicates()"
   ]
  },
  {
   "cell_type": "code",
   "execution_count": 32,
   "id": "0a0faf11-c21c-4836-b41f-03339a6f1358",
   "metadata": {},
   "outputs": [],
   "source": [
    "# 8. Pembagian Data (Training dan Testing)\n",
    "X = data.drop(columns=['Purchased'])  # Fitur, pastikan 'Purchased' adalah kolom target\n",
    "y = data['Purchased']  # Target/label\n",
    "\n",
    "# Split dataset menjadi 80% pelatihan dan 20% pengujian\n",
    "X_train, X_test, y_train, y_test = train_test_split(X, y, test_size=0.2, random_state=42)"
   ]
  },
  {
   "cell_type": "code",
   "execution_count": 33,
   "id": "65855144-9dc9-4ba3-82eb-b472efe25692",
   "metadata": {},
   "outputs": [
    {
     "name": "stdout",
     "output_type": "stream",
     "text": [
      "Akurasi: 92.11%\n",
      "Matriks Kebingungannya:\n",
      "[[42  6]\n",
      " [ 0 28]]\n",
      "Laporan Klasifikasi:\n",
      "              precision    recall  f1-score   support\n",
      "\n",
      "           0       1.00      0.88      0.93        48\n",
      "           1       0.82      1.00      0.90        28\n",
      "\n",
      "    accuracy                           0.92        76\n",
      "   macro avg       0.91      0.94      0.92        76\n",
      "weighted avg       0.93      0.92      0.92        76\n",
      "\n"
     ]
    }
   ],
   "source": [
    "# 9. Pemodelan Naive Bayes (GaussianNB)\n",
    "nb = GaussianNB()\n",
    "\n",
    "# Melatih model dengan data pelatihan\n",
    "nb.fit(X_train, y_train)\n",
    "\n",
    "# Melakukan prediksi dengan data pengujian\n",
    "y_pred = nb.predict(X_test)\n",
    "\n",
    "# Evaluasi model\n",
    "accuracy = accuracy_score(y_test, y_pred)\n",
    "print(f\"Akurasi: {accuracy * 100:.2f}%\")\n",
    "\n",
    "# Matriks kebingungannya\n",
    "print(\"Matriks Kebingungannya:\")\n",
    "print(confusion_matrix(y_test, y_pred))\n",
    "\n",
    "# Laporan Klasifikasi\n",
    "print(\"Laporan Klasifikasi:\")\n",
    "print(classification_report(y_test, y_pred))"
   ]
  },
  {
   "cell_type": "code",
   "execution_count": 34,
   "id": "7fd5ecf4-8915-493c-8b53-8bc6721c054b",
   "metadata": {},
   "outputs": [
    {
     "name": "stdout",
     "output_type": "stream",
     "text": [
      "Hyperparameter terbaik: {'var_smoothing': 1e-09}\n",
      "Akurasi terbaik: 87.81%\n",
      "Akurasi dengan hyperparameter terbaik: 92.10526315789474\n"
     ]
    }
   ],
   "source": [
    "# 9.2. Hyperparameter Tuning dengan GridSearchCV (untuk GaussianNB)\n",
    "param_grid = {'var_smoothing': [1e-9, 1e-8, 1e-7, 1e-6, 1e-5]}\n",
    "grid_search = GridSearchCV(GaussianNB(), param_grid, cv=5)\n",
    "\n",
    "# Melatih model dengan data pelatihan\n",
    "grid_search.fit(X_train, y_train)\n",
    "\n",
    "# Melihat hasil terbaik\n",
    "print(\"Hyperparameter terbaik:\", grid_search.best_params_)\n",
    "print(f\"Akurasi terbaik: {grid_search.best_score_ * 100:.2f}%\")\n",
    "\n",
    "# Evaluasi model terbaik pada data uji\n",
    "y_pred_best = grid_search.best_estimator_.predict(X_test)\n",
    "print(\"Akurasi dengan hyperparameter terbaik:\", accuracy_score(y_test, y_pred_best) * 100)"
   ]
  },
  {
   "cell_type": "code",
   "execution_count": 35,
   "id": "3574165f-847b-4d41-8178-90b3cf33d324",
   "metadata": {},
   "outputs": [],
   "source": [
    "# 10. Menyimpan Model untuk Digunakan Kembali\n",
    "joblib.dump(nb, 'naive_bayes_model.pkl')\n",
    "\n",
    "# Untuk memuat model kembali nanti\n",
    "model = joblib.load('naive_bayes_model.pkl')"
   ]
  },
  {
   "cell_type": "code",
   "execution_count": 36,
   "id": "a5a75ab9-e215-4cd6-a5d3-f56d6e9044ec",
   "metadata": {},
   "outputs": [
    {
     "name": "stdout",
     "output_type": "stream",
     "text": [
      "Prediksi untuk data baru: [0]\n"
     ]
    }
   ],
   "source": [
    "# 11. Prediksi untuk Data Baru\n",
    "# Misalnya, data baru yang ingin diprediksi\n",
    "data_baru = pd.DataFrame({\n",
    "    'Age': [30],\n",
    "    'EstimatedSalary': [40000],\n",
    "    'Gender': [0],  # Label encoding untuk 'Laki-laki'\n",
    "})\n",
    "\n",
    "# Melakukan preprocessing yang sama seperti pada data pelatihan\n",
    "data_baru[['Age', 'EstimatedSalary']] = scaler.transform(data_baru[['Age', 'EstimatedSalary']])\n",
    "\n",
    "# Pastikan hanya fitur yang digunakan dalam pelatihan yang diberikan untuk prediksi\n",
    "# Mengurutkan kolom data_baru agar sesuai dengan urutan fitur pada X_train\n",
    "data_baru = data_baru[X.columns]  # Menyesuaikan urutan fitur agar sesuai dengan X_train\n",
    "\n",
    "# Melakukan prediksi dengan model\n",
    "prediksi = nb.predict(data_baru)\n",
    "print(f\"Prediksi untuk data baru: {prediksi}\")\n"
   ]
  },
  {
   "cell_type": "code",
   "execution_count": null,
   "id": "210e1fb1-a43f-463f-aec2-630e05254e15",
   "metadata": {},
   "outputs": [],
   "source": []
  }
 ],
 "metadata": {
  "kernelspec": {
   "display_name": "Python 3 (ipykernel)",
   "language": "python",
   "name": "python3"
  },
  "language_info": {
   "codemirror_mode": {
    "name": "ipython",
    "version": 3
   },
   "file_extension": ".py",
   "mimetype": "text/x-python",
   "name": "python",
   "nbconvert_exporter": "python",
   "pygments_lexer": "ipython3",
   "version": "3.12.2"
  }
 },
 "nbformat": 4,
 "nbformat_minor": 5
}
