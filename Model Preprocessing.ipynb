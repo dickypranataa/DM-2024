{
 "cells": [
  {
   "cell_type": "code",
   "execution_count": 28,
   "id": "9365e283-9cb5-4d50-8e9f-eb6a5d41117a",
   "metadata": {},
   "outputs": [],
   "source": [
    "import pandas as pd\n",
    "from sklearn.model_selection import train_test_split\n",
    "from sklearn.preprocessing import StandardScaler"
   ]
  },
  {
   "cell_type": "code",
   "execution_count": 29,
   "id": "1ca8b48d-705f-4cbb-9a4a-4e9b5da8b328",
   "metadata": {},
   "outputs": [],
   "source": [
    "# Membaca dataset\n",
    "df = pd.read_excel('dataKasus-1.xlsx')"
   ]
  },
  {
   "cell_type": "code",
   "execution_count": 31,
   "id": "e58121ec-c3eb-4aa5-87cf-b21ffc93cc16",
   "metadata": {},
   "outputs": [
    {
     "name": "stdout",
     "output_type": "stream",
     "text": [
      "Dataframe Sebelum Preprocessing:\n",
      "   NO    NAMA   USIA  PARITAS JARAK KELAHIRAN RIW HIPERTENSI RIW PE OBESITAS  \\\n",
      "0   1  NAMA 1  23 TH        3       < 2 tahun          Tidak  Tidak    Tidak   \n",
      "1   2  NAMA 2  29 TH        2       < 2 tahun          Tidak    PEB    Tidak   \n",
      "2   3  NAMA 3  20 TH        1    anak pertama          Tidak  Tidak    Tidak   \n",
      "3   4  NAMA 4  18 TH        1    anak pertama          Tidak  Tidak    Tidak   \n",
      "4   5  NAMA 5  34 TH        3      > 2 tahun           Tidak  Tidak    Tidak   \n",
      "\n",
      "  RIW DM RIW HIPERTENSI/PE DALAM KELUARGA SOSEK RENDAH PE/Non PE Unnamed: 12  \n",
      "0     Ya                            Tidak         >UMR    Non PE         NaN  \n",
      "1  Tidak                              Ada         >UMR        PE         NaN  \n",
      "2  Tidak                            Tidak         >UMR    Non PE         NaN  \n",
      "3  Tidak                            Tidak         >UMR    Non PE         NaN  \n",
      "4  Tidak                            Tidak         >UMR    Non PE         NaN  \n"
     ]
    }
   ],
   "source": [
    "# Menampilkan informasi awal tentang dataframe\n",
    "print(\"Dataframe Sebelum Preprocessing:\")\n",
    "print(df.head())"
   ]
  },
  {
   "cell_type": "code",
   "execution_count": 32,
   "id": "57100e21-b577-4928-ae8e-2621c4edf468",
   "metadata": {},
   "outputs": [
    {
     "name": "stdout",
     "output_type": "stream",
     "text": [
      "Nilai unik di kolom USIA: ['23 TH' '29 TH' '20 TH' '18 TH' '34 TH' '28 TH' '36 TH' '39 TH' '37 TH'\n",
      " 16 '24 TH' '31 TH' '35 TH' '13 TH ' '21 TH' '40 TH' 28 '25 TH' '27 TH'\n",
      " '26 TH ' '30 TH' '38 TH' 29 '33 TH' '22 TH' 23 37 '41 TH' '16 TH' '15 TH'\n",
      " '26 TH' '19 TH' '39 TH ' nan '17 TH' '38 th' '35 th' '33 th' '25 th'\n",
      " '27 th' '23 th' '21 th' '39 th' '30 th' '30 th ' '32 th' '26 th' '20 th'\n",
      " '37 th' '17 th' '29 th' '28 th' '24 th' '31 th ' '40 th' '22 th' '34 th'\n",
      " '31 th' '36 th' '31  th' 26 '19 th' '41 th' '19 th ' '31th' 21 '40th'\n",
      " '18 th' '32 TH' '43 TH' '20 TH ' '23TH' '14 TH']\n",
      "Nilai unik di kolom JARAK KELAHIRAN: ['< 2 tahun' 'anak pertama' '> 2 tahun ' nan '> 2 tahun']\n"
     ]
    }
   ],
   "source": [
    "# Memeriksa nilai unik di kolom USIA dan JARAK KELAHIRAN\n",
    "print(\"Nilai unik di kolom USIA:\", df['USIA'].unique())\n",
    "print(\"Nilai unik di kolom JARAK KELAHIRAN:\", df['JARAK KELAHIRAN'].unique())"
   ]
  },
  {
   "cell_type": "code",
   "execution_count": 33,
   "id": "e7d2ed31-065a-4cb3-9ca2-7806045740bc",
   "metadata": {},
   "outputs": [],
   "source": [
    "# Mengganti nilai dengan benar\n",
    "df['JARAK KELAHIRAN'] = df['JARAK KELAHIRAN'].astype(str).str.strip().replace({'< 2 tahun': 0, '> 2 tahun': 1, 'anak pertama': 2, 'nan': None})\n",
    "df['USIA'] = df['USIA'].astype(str).str.strip().replace({'< 20 tahun': 0, '20-35 tahun': 1, '> 35 tahun': 2, 'nan': None})\n",
    "df['RIW HIPERTENSI'] = df['RIW HIPERTENSI'].astype(str).str.strip().replace({'Ya': 1, 'Tidak': 0})\n",
    "df['RIW PE'] = df['RIW PE'].astype(str).str.strip().replace({'Ya': 1, 'Tidak': 0})\n",
    "df['OBESITAS'] = df['OBESITAS'].astype(str).str.strip().replace({'Ya': 1, 'Tidak': 0})\n",
    "df['RIW DM'] = df['RIW DM'].astype(str).str.strip().replace({'Ya': 1, 'Tidak': 0})\n",
    "df['RIW HIPERTENSI/PE DALAM KELUARGA'] = df['RIW HIPERTENSI/PE DALAM KELUARGA'].astype(str).str.strip().replace({'Ya': 1, 'Tidak': 0})\n",
    "df['SOSEK RENDAH'] = df['SOSEK RENDAH'].astype(str).str.strip().replace({'Ya': 1, 'Tidak': 0})"
   ]
  },
  {
   "cell_type": "code",
   "execution_count": 40,
   "id": "d3bb13f2-cb9e-4b0b-9c39-7f1d034ecae5",
   "metadata": {},
   "outputs": [],
   "source": [
    "# Membersihkan data dari karakter tambahan\n",
    "df['USIA'] = df['USIA'].astype(str).str.replace(' TH', '', 'th',' th', regex=False)\n",
    "df['JARAK KELAHIRAN'] = df['JARAK KELAHIRAN'].astype(str).str.replace(' TH', '', 'th',' th', regex=False)"
   ]
  },
  {
   "cell_type": "code",
   "execution_count": 41,
   "id": "6f1e387f-ef73-41a9-a5c6-aa620b45a026",
   "metadata": {},
   "outputs": [
    {
     "name": "stdout",
     "output_type": "stream",
     "text": [
      "Data Setelah Preprocessing:\n",
      "   NO    NAMA  USIA  PARITAS  JARAK KELAHIRAN RIW HIPERTENSI RIW PE OBESITAS  \\\n",
      "0   1  NAMA 1   NaN        3              NaN              0      0        0   \n",
      "1   2  NAMA 2   NaN        2              NaN              0    PEB        0   \n",
      "2   3  NAMA 3   NaN        1              NaN              0      0        0   \n",
      "3   4  NAMA 4   NaN        1              NaN              0      0        0   \n",
      "4   5  NAMA 5   NaN        3              NaN              0      0        0   \n",
      "\n",
      "  RIW DM RIW HIPERTENSI/PE DALAM KELUARGA SOSEK RENDAH PE/Non PE Unnamed: 12  \n",
      "0      1                                0         >UMR    Non PE         NaN  \n",
      "1      0                              Ada         >UMR        PE         NaN  \n",
      "2      0                                0         >UMR    Non PE         NaN  \n",
      "3      0                                0         >UMR    Non PE         NaN  \n",
      "4      0                                0         >UMR    Non PE         NaN  \n"
     ]
    }
   ],
   "source": [
    "# Menampilkan hasil setelah preprocessing\n",
    "print(\"Data Setelah Preprocessing:\")\n",
    "print(df.head())"
   ]
  },
  {
   "cell_type": "code",
   "execution_count": 42,
   "id": "a550d78b-8433-4350-a686-35271b74864f",
   "metadata": {},
   "outputs": [],
   "source": [
    "# Memastikan tidak ada NaN dalam fitur\n",
    "X = df[['USIA', 'PARITAS', 'JARAK KELAHIRAN', 'RIW HIPERTENSI', 'RIW PE', 'OBESITAS', 'RIW DM', 'RIW HIPERTENSI/PE DALAM KELUARGA', 'SOSEK RENDAH']]\n",
    "y = df['PE/Non PE']"
   ]
  },
  {
   "cell_type": "code",
   "execution_count": 43,
   "id": "9d67e5fc-8765-4797-a1d1-d69253ec096b",
   "metadata": {},
   "outputs": [],
   "source": [
    "# Menghapus baris dengan NaN\n",
    "X = X.dropna()\n",
    "y = y.loc[X.index]"
   ]
  },
  {
   "cell_type": "code",
   "execution_count": 44,
   "id": "a36db0f3-23cc-4d9f-82fb-269d4eb1867a",
   "metadata": {},
   "outputs": [
    {
     "name": "stdout",
     "output_type": "stream",
     "text": [
      "Jumlah NaN dalam fitur X: 0\n",
      "Jumlah NaN dalam y: 0\n",
      "Ukuran X setelah menghapus NaN: (0, 9)\n",
      "Ukuran y setelah menghapus NaN: (0,)\n"
     ]
    }
   ],
   "source": [
    "# Memastikan tidak ada NaN setelah penghapusan\n",
    "print(f\"Jumlah NaN dalam fitur X: {X.isna().sum().sum()}\")\n",
    "print(f\"Jumlah NaN dalam y: {y.isna().sum()}\")\n",
    "print(f\"Ukuran X setelah menghapus NaN: {X.shape}\")\n",
    "print(f\"Ukuran y setelah menghapus NaN: {y.shape}\")"
   ]
  },
  {
   "cell_type": "code",
   "execution_count": 45,
   "id": "299f6f74-34c4-4828-9ab7-45fb0bd6a5e2",
   "metadata": {},
   "outputs": [
    {
     "name": "stdout",
     "output_type": "stream",
     "text": [
      "Dataset kosong setelah menghapus NaN, silakan periksa preprocessing.\n"
     ]
    }
   ],
   "source": [
    "# Memeriksa apakah dataset kosong\n",
    "if X.empty or y.empty:\n",
    "    print(\"Dataset kosong setelah menghapus NaN, silakan periksa preprocessing.\")\n",
    "else:\n",
    "    # 10. Membagi dataset menjadi data latih dan data uji\n",
    "    X_train, X_test, y_train, y_test = train_test_split(X, y, test_size=0.2, random_state=42)\n",
    "\n",
    "    # 11. Normalisasi fitur\n",
    "    scaler = StandardScaler()\n",
    "    X_train = scaler.fit_transform(X_train)\n",
    "    X_test = scaler.transform(X_test)\n",
    "\n",
    "    # Menampilkan ukuran dataset latih dan uji\n",
    "    print(f\"Ukuran dataset latih: {X_train.shape}, Ukuran dataset uji: {X_test.shape}\")"
   ]
  }
 ],
 "metadata": {
  "kernelspec": {
   "display_name": "Python 3 (ipykernel)",
   "language": "python",
   "name": "python3"
  },
  "language_info": {
   "codemirror_mode": {
    "name": "ipython",
    "version": 3
   },
   "file_extension": ".py",
   "mimetype": "text/x-python",
   "name": "python",
   "nbconvert_exporter": "python",
   "pygments_lexer": "ipython3",
   "version": "3.12.2"
  }
 },
 "nbformat": 4,
 "nbformat_minor": 5
}
