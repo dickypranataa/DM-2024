{
 "cells": [
  {
   "cell_type": "code",
   "execution_count": 4,
   "id": "6c2d8b1c-cba9-401d-bd5f-3c4bd78678b7",
   "metadata": {},
   "outputs": [],
   "source": [
    "import pandas as pd\n",
    "from sklearn.model_selection import train_test_split, GridSearchCV\n",
    "from sklearn.neighbors import KNeighborsClassifier\n",
    "from sklearn.preprocessing import StandardScaler, LabelEncoder\n",
    "from sklearn.impute import SimpleImputer\n",
    "from sklearn.metrics import accuracy_score, confusion_matrix, classification_report\n",
    "import joblib"
   ]
  },
  {
   "cell_type": "code",
   "execution_count": 5,
   "id": "c729265a-dd7d-46b1-a1fd-e226eac20a65",
   "metadata": {},
   "outputs": [],
   "source": [
    "# 1. Memuat Dataset\n",
    "data = pd.read_csv(\"Social_Network_Ads.csv\")"
   ]
  },
  {
   "cell_type": "code",
   "execution_count": 6,
   "id": "5e3471ed-42d6-4933-bcce-697c5433c7cf",
   "metadata": {},
   "outputs": [
    {
     "name": "stdout",
     "output_type": "stream",
     "text": [
      "Nilai yang hilang per kolom:\n",
      "User ID            0\n",
      "Gender             0\n",
      "Age                0\n",
      "EstimatedSalary    0\n",
      "Purchased          0\n",
      "dtype: int64\n"
     ]
    }
   ],
   "source": [
    "# 2. Memeriksa Nilai yang Hilang\n",
    "print(\"Nilai yang hilang per kolom:\")\n",
    "print(data.isnull().sum())"
   ]
  },
  {
   "cell_type": "code",
   "execution_count": 7,
   "id": "fbd27fed-a49a-4787-9259-c76e2f5e28bd",
   "metadata": {},
   "outputs": [
    {
     "name": "stdout",
     "output_type": "stream",
     "text": [
      "Unik nilai di kolom 'Gender': ['Male' 'Female']\n"
     ]
    }
   ],
   "source": [
    "# 3. Menangani Nilai yang Hilang\n",
    "imputer = SimpleImputer(strategy='median')\n",
    "data[['Age', 'EstimatedSalary']] = imputer.fit_transform(data[['Age', 'EstimatedSalary']])\n",
    "\n",
    "# Cek apakah 'Gender' adalah kategorikal atau numerik\n",
    "print(\"Unik nilai di kolom 'Gender':\", data['Gender'].unique())\n",
    "\n",
    "# Jika 'Gender' adalah kategorikal, lakukan imputasi dengan modus\n",
    "if data['Gender'].dtype == 'object':\n",
    "    imputer = SimpleImputer(strategy='most_frequent')\n",
    "    data['Gender'] = imputer.fit_transform(data[['Gender']]).ravel()"
   ]
  },
  {
   "cell_type": "code",
   "execution_count": 8,
   "id": "c5a27da7-366c-4315-8947-6dccbfbb22bc",
   "metadata": {},
   "outputs": [],
   "source": [
    "# 4. Encoding Fitur Kategorikal\n",
    "label_encoder = LabelEncoder()\n",
    "data['Gender'] = label_encoder.fit_transform(data['Gender'])\n"
   ]
  },
  {
   "cell_type": "code",
   "execution_count": 9,
   "id": "bc15c544-f0bc-4fcf-90e2-4affd4ababb5",
   "metadata": {},
   "outputs": [],
   "source": [
    "# 5. Normalisasi atau Skalasi Fitur Numerik\n",
    "scaler = StandardScaler()\n",
    "data[['Age', 'EstimatedSalary']] = scaler.fit_transform(data[['Age', 'EstimatedSalary']])"
   ]
  },
  {
   "cell_type": "code",
   "execution_count": 10,
   "id": "74fc6601-2336-464c-b832-f6f402f64916",
   "metadata": {},
   "outputs": [],
   "source": [
    "# 6. Menghapus Kolom yang Tidak Relevan (User ID)\n",
    "data = data.drop(columns=['User ID'])  # Hapus kolom User ID"
   ]
  },
  {
   "cell_type": "code",
   "execution_count": 11,
   "id": "668b75dc-7503-4aaa-ab33-46d557b62161",
   "metadata": {},
   "outputs": [],
   "source": [
    "# 7. Menghapus Duplikasi\n",
    "data = data.drop_duplicates()"
   ]
  },
  {
   "cell_type": "code",
   "execution_count": 12,
   "id": "abde4e4f-74ee-4325-93f4-6697a760d72d",
   "metadata": {},
   "outputs": [],
   "source": [
    "# 8. Pembagian Data (Training dan Testing)\n",
    "X = data.drop(columns=['Purchased'])  # Fitur, pastikan 'Purchased' adalah kolom target\n",
    "y = data['Purchased']  # Target/label\n",
    "\n",
    "# Split dataset menjadi 80% pelatihan dan 20% pengujian\n",
    "X_train, X_test, y_train, y_test = train_test_split(X, y, test_size=0.2, random_state=42)"
   ]
  },
  {
   "cell_type": "code",
   "execution_count": 13,
   "id": "be4b2633-038c-4ce5-bdb9-b14d9ade5495",
   "metadata": {},
   "outputs": [
    {
     "name": "stdout",
     "output_type": "stream",
     "text": [
      "Akurasi: 88.16%\n",
      "Matriks Kebingungannya:\n",
      "[[39  9]\n",
      " [ 0 28]]\n",
      "Laporan Klasifikasi:\n",
      "              precision    recall  f1-score   support\n",
      "\n",
      "           0       1.00      0.81      0.90        48\n",
      "           1       0.76      1.00      0.86        28\n",
      "\n",
      "    accuracy                           0.88        76\n",
      "   macro avg       0.88      0.91      0.88        76\n",
      "weighted avg       0.91      0.88      0.88        76\n",
      "\n"
     ]
    }
   ],
   "source": [
    "# 9. Pemodelan K-Nearest Neighbors (KNN)\n",
    "knn = KNeighborsClassifier()\n",
    "\n",
    "# Melatih model dengan data pelatihan\n",
    "knn.fit(X_train, y_train)\n",
    "\n",
    "# Melakukan prediksi dengan data pengujian\n",
    "y_pred = knn.predict(X_test)\n",
    "\n",
    "# Evaluasi model\n",
    "accuracy = accuracy_score(y_test, y_pred)\n",
    "print(f\"Akurasi: {accuracy * 100:.2f}%\")\n",
    "\n",
    "# Matriks kebingungannya\n",
    "print(\"Matriks Kebingungannya:\")\n",
    "print(confusion_matrix(y_test, y_pred))\n",
    "\n",
    "# Laporan Klasifikasi\n",
    "print(\"Laporan Klasifikasi:\")\n",
    "print(classification_report(y_test, y_pred))"
   ]
  },
  {
   "cell_type": "code",
   "execution_count": 14,
   "id": "1a7dddfe-2e5c-4f0a-ad60-c1cf66e88989",
   "metadata": {},
   "outputs": [
    {
     "name": "stdout",
     "output_type": "stream",
     "text": [
      "Hyperparameter terbaik: {'n_neighbors': 11, 'weights': 'uniform'}\n",
      "Akurasi terbaik: 91.44%\n",
      "Akurasi dengan hyperparameter terbaik: 89.47368421052632\n"
     ]
    }
   ],
   "source": [
    "# 9.2. Hyperparameter Tuning dengan GridSearchCV (untuk KNN)\n",
    "param_grid = {'n_neighbors': [3, 5, 7, 9, 11], 'weights': ['uniform', 'distance']}\n",
    "grid_search = GridSearchCV(KNeighborsClassifier(), param_grid, cv=5)\n",
    "\n",
    "# Melatih model dengan data pelatihan\n",
    "grid_search.fit(X_train, y_train)\n",
    "\n",
    "# Melihat hasil terbaik\n",
    "print(\"Hyperparameter terbaik:\", grid_search.best_params_)\n",
    "print(f\"Akurasi terbaik: {grid_search.best_score_ * 100:.2f}%\")\n",
    "\n",
    "# Evaluasi model terbaik pada data uji\n",
    "y_pred_best = grid_search.best_estimator_.predict(X_test)\n",
    "print(\"Akurasi dengan hyperparameter terbaik:\", accuracy_score(y_test, y_pred_best) * 100)"
   ]
  },
  {
   "cell_type": "code",
   "execution_count": 15,
   "id": "5912dd86-f04c-40da-828b-bf927e71b63c",
   "metadata": {},
   "outputs": [],
   "source": [
    "# 10. Menyimpan Model untuk Digunakan Kembali\n",
    "joblib.dump(knn, 'knn_model.pkl')\n",
    "\n",
    "# Untuk memuat model kembali nanti\n",
    "model = joblib.load('knn_model.pkl')"
   ]
  },
  {
   "cell_type": "code",
   "execution_count": 16,
   "id": "5846600f-884e-4bf4-8cb4-6087c6c6e2db",
   "metadata": {},
   "outputs": [
    {
     "name": "stdout",
     "output_type": "stream",
     "text": [
      "Prediksi untuk data baru: [0]\n"
     ]
    }
   ],
   "source": [
    "# 11. Prediksi untuk Data Baru\n",
    "# Misalnya, data baru yang ingin diprediksi\n",
    "data_baru = pd.DataFrame({\n",
    "    'Age': [30],\n",
    "    'EstimatedSalary': [40000],\n",
    "    'Gender': [0],  # Label encoding untuk 'Laki-laki'\n",
    "})\n",
    "\n",
    "# Melakukan preprocessing yang sama seperti pada data pelatihan\n",
    "data_baru[['Age', 'EstimatedSalary']] = scaler.transform(data_baru[['Age', 'EstimatedSalary']])\n",
    "\n",
    "# Pastikan hanya fitur yang digunakan dalam pelatihan yang diberikan untuk prediksi\n",
    "# Mengurutkan kolom data_baru agar sesuai dengan urutan fitur pada X_train\n",
    "data_baru = data_baru[X.columns]  # Menyesuaikan urutan fitur agar sesuai dengan X_train\n",
    "\n",
    "# Melakukan prediksi dengan model\n",
    "prediksi = knn.predict(data_baru)\n",
    "print(f\"Prediksi untuk data baru: {prediksi}\")\n"
   ]
  },
  {
   "cell_type": "code",
   "execution_count": null,
   "id": "6e83cc45-43fe-4098-97ef-bc2cdf3f7216",
   "metadata": {},
   "outputs": [],
   "source": []
  }
 ],
 "metadata": {
  "kernelspec": {
   "display_name": "Python 3 (ipykernel)",
   "language": "python",
   "name": "python3"
  },
  "language_info": {
   "codemirror_mode": {
    "name": "ipython",
    "version": 3
   },
   "file_extension": ".py",
   "mimetype": "text/x-python",
   "name": "python",
   "nbconvert_exporter": "python",
   "pygments_lexer": "ipython3",
   "version": "3.12.2"
  }
 },
 "nbformat": 4,
 "nbformat_minor": 5
}
