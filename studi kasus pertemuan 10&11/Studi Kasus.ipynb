{
 "cells": [
  {
   "cell_type": "code",
   "execution_count": 12,
   "id": "4741c6a8-23a3-4a4d-a12f-a7a18676142a",
   "metadata": {},
   "outputs": [],
   "source": [
    "import pandas as pd\n",
    "from sklearn.cluster import KMeans\n",
    "from sklearn.preprocessing import StandardScaler\n",
    "import matplotlib.pyplot as plt\n",
    "import numpy as np"
   ]
  },
  {
   "cell_type": "code",
   "execution_count": 13,
   "id": "c4232051-34e3-4c6b-a770-21fad82a8c78",
   "metadata": {},
   "outputs": [],
   "source": [
    "# Fungsi untuk menormalkan nama provinsi\n",
    "def normalize_provinsi_names(df, column):\n",
    "    df[column] = df[column].str.strip().str.title()\n",
    "    return df"
   ]
  },
  {
   "cell_type": "code",
   "execution_count": 14,
   "id": "102e621f-e990-458b-bb72-88fc9c7bd049",
   "metadata": {},
   "outputs": [],
   "source": [
    "# Load datasets\n",
    "statistik_covid_path = \"Statistik_Harian_per_Provinsi_COVID19_Indonesia_Rev.csv\"\n",
    "kepadatan_penduduk_path = \"Kepadatan Penduduk menurut Provinsi.xlsx\"\n",
    "jumlah_penduduk_path = \"Jumlah Penduduk.xlsx\""
   ]
  },
  {
   "cell_type": "code",
   "execution_count": 15,
   "id": "bbc52ea0-1dd3-465f-92e0-15502da11fd3",
   "metadata": {},
   "outputs": [],
   "source": [
    "# Membaca dataset\n",
    "statistik_covid = pd.read_csv(statistik_covid_path)\n",
    "kepadatan_penduduk = pd.read_excel(kepadatan_penduduk_path)\n",
    "jumlah_penduduk = pd.read_excel(jumlah_penduduk_path)"
   ]
  },
  {
   "cell_type": "code",
   "execution_count": 16,
   "id": "4290437f-4573-408c-9f63-6c62accd592c",
   "metadata": {},
   "outputs": [],
   "source": [
    "# Seleksi kolom penting\n",
    "statistik_covid_cleaned = statistik_covid[\n",
    "    [\"Provinsi\", \"Tanggal\", \"Kasus_Terkonfirmasi_Akumulatif\", \n",
    "     \"Penambahan_Harian_Kasus_Terkonf\", \"Kasus_Sembuh_Akumulatif\", \n",
    "     \"Kasus_Meninggal_Akumulatif\"]\n",
    "].dropna()"
   ]
  },
  {
   "cell_type": "code",
   "execution_count": 17,
   "id": "c39aff96-a79f-42bb-90a4-5fc50c2c1d17",
   "metadata": {},
   "outputs": [],
   "source": [
    "kepadatan_penduduk_cleaned = kepadatan_penduduk[\n",
    "    [\"Provinsi\", \"Kepadatan Penduduk menurut Provinsi (jiwa/km2)\"]\n",
    "].dropna()"
   ]
  },
  {
   "cell_type": "code",
   "execution_count": 18,
   "id": "f81cf019-86ee-4023-995c-05ae50ce1133",
   "metadata": {},
   "outputs": [],
   "source": [
    "jumlah_penduduk_cleaned = jumlah_penduduk[\n",
    "    [\"Provinsi\", \"Jumlah Penduduk Hasil Proyeksi Menurut Provinsi dan Jenis Kelamin (Ribu Jiwa)\"]\n",
    "].dropna()"
   ]
  },
  {
   "cell_type": "code",
   "execution_count": 19,
   "id": "10247c85-c085-467c-a7c7-6a5a2fd1dade",
   "metadata": {},
   "outputs": [],
   "source": [
    "# Rename kolom untuk konsistensi\n",
    "jumlah_penduduk_cleaned.rename(columns={\n",
    "    \"Jumlah Penduduk Hasil Proyeksi Menurut Provinsi dan Jenis Kelamin (Ribu Jiwa)\": \"Jumlah_Penduduk\"\n",
    "}, inplace=True)"
   ]
  },
  {
   "cell_type": "code",
   "execution_count": 20,
   "id": "9df5fbe0-39b3-40cd-a1b1-2374f12a38d3",
   "metadata": {},
   "outputs": [],
   "source": [
    "# Normalisasi nama provinsi\n",
    "statistik_covid_cleaned = normalize_provinsi_names(statistik_covid_cleaned, \"Provinsi\")\n",
    "kepadatan_penduduk_cleaned = normalize_provinsi_names(kepadatan_penduduk_cleaned, \"Provinsi\")\n",
    "jumlah_penduduk_cleaned = normalize_provinsi_names(jumlah_penduduk_cleaned, \"Provinsi\")"
   ]
  },
  {
   "cell_type": "code",
   "execution_count": 26,
   "id": "f34847b1-eb65-450a-991c-8948f8f7b38a",
   "metadata": {},
   "outputs": [],
   "source": [
    "# Gabungkan dataset berdasarkan \"Provinsi\"\n",
    "merged_data = statistik_covid_cleaned.merge(\n",
    "    kepadatan_penduduk_cleaned, on=\"Provinsi\", how=\"inner\"\n",
    ").merge(\n",
    "    jumlah_penduduk_cleaned, on=\"Provinsi\", how=\"inner\"\n",
    ")"
   ]
  },
  {
   "cell_type": "code",
   "execution_count": 27,
   "id": "e860a77f-07da-4ffc-a857-e52bea51dd64",
   "metadata": {},
   "outputs": [
    {
     "name": "stdout",
     "output_type": "stream",
     "text": [
      "Kasus_Terkonfirmasi_Akumulatif    float64\n",
      "Kasus_Meninggal_Akumulatif        float64\n",
      "Kasus_Sembuh_Akumulatif           float64\n",
      "Jumlah_Penduduk                    object\n",
      "dtype: object\n"
     ]
    }
   ],
   "source": [
    "print(merged_data[['Kasus_Terkonfirmasi_Akumulatif', 'Kasus_Meninggal_Akumulatif', 'Kasus_Sembuh_Akumulatif', 'Jumlah_Penduduk']].dtypes)\n"
   ]
  },
  {
   "cell_type": "code",
   "execution_count": 28,
   "id": "e0977636-edd0-4e47-8087-5e1127e40c3b",
   "metadata": {},
   "outputs": [],
   "source": [
    "# Pastikan kolom yang terlibat dalam perhitungan memiliki tipe data numerik\n",
    "merged_data['Kasus_Terkonfirmasi_Akumulatif'] = pd.to_numeric(merged_data['Kasus_Terkonfirmasi_Akumulatif'], errors='coerce')\n",
    "merged_data['Kasus_Meninggal_Akumulatif'] = pd.to_numeric(merged_data['Kasus_Meninggal_Akumulatif'], errors='coerce')\n",
    "merged_data['Kasus_Sembuh_Akumulatif'] = pd.to_numeric(merged_data['Kasus_Sembuh_Akumulatif'], errors='coerce')\n",
    "merged_data['Jumlah_Penduduk'] = pd.to_numeric(merged_data['Jumlah_Penduduk'], errors='coerce')"
   ]
  },
  {
   "cell_type": "code",
   "execution_count": 29,
   "id": "01aaa3fa-b992-4891-ba29-b5d30dfb71a9",
   "metadata": {},
   "outputs": [
    {
     "name": "stdout",
     "output_type": "stream",
     "text": [
      "Kasus_Terkonfirmasi_Akumulatif       0\n",
      "Kasus_Meninggal_Akumulatif           0\n",
      "Kasus_Sembuh_Akumulatif              0\n",
      "Jumlah_Penduduk                   7875\n",
      "dtype: int64\n"
     ]
    }
   ],
   "source": [
    "# Cek apakah ada NaN setelah konversi\n",
    "print(merged_data[['Kasus_Terkonfirmasi_Akumulatif', 'Kasus_Meninggal_Akumulatif', \n",
    "                   'Kasus_Sembuh_Akumulatif', 'Jumlah_Penduduk']].isna().sum())"
   ]
  },
  {
   "cell_type": "code",
   "execution_count": 30,
   "id": "37416861-193e-46d0-934c-b1ec3ef24014",
   "metadata": {},
   "outputs": [],
   "source": [
    "# Menghapus baris yang memiliki NaN jika diperlukan\n",
    "merged_data = merged_data.dropna(subset=['Kasus_Terkonfirmasi_Akumulatif', 'Kasus_Meninggal_Akumulatif',\n",
    "                                         'Kasus_Sembuh_Akumulatif', 'Jumlah_Penduduk'])"
   ]
  },
  {
   "cell_type": "code",
   "execution_count": 31,
   "id": "fb4a531f-0688-47d4-b257-3c9f7b1a784a",
   "metadata": {},
   "outputs": [],
   "source": [
    "# Tambahkan fitur tambahan\n",
    "merged_data['Rasio_Kasus_Penduduk'] = merged_data['Kasus_Terkonfirmasi_Akumulatif'] / merged_data['Jumlah_Penduduk']\n",
    "merged_data['Rasio_Meninggal_Penduduk'] = merged_data['Kasus_Meninggal_Akumulatif'] / merged_data['Jumlah_Penduduk']\n",
    "merged_data['Rasio_Sembuh_Penduduk'] = merged_data['Kasus_Sembuh_Akumulatif'] / merged_data['Jumlah_Penduduk']"
   ]
  },
  {
   "cell_type": "code",
   "execution_count": 34,
   "id": "e5c354e9-348c-4a98-8380-23b3f4219752",
   "metadata": {},
   "outputs": [],
   "source": [
    "# Seleksi provinsi untuk Jawa Timur dan DKI Jakarta\n",
    "filtered_data = merged_data[merged_data['Provinsi'].isin([\"Jawa Timur\", \"Dki Jakarta\"])]"
   ]
  },
  {
   "cell_type": "code",
   "execution_count": 35,
   "id": "c1a24d8c-df87-4f4a-b75d-d43313a173c6",
   "metadata": {},
   "outputs": [
    {
     "name": "stdout",
     "output_type": "stream",
     "text": [
      "(0, 11)\n",
      "Empty DataFrame\n",
      "Columns: [Provinsi, Tanggal, Kasus_Terkonfirmasi_Akumulatif, Penambahan_Harian_Kasus_Terkonf, Kasus_Sembuh_Akumulatif, Kasus_Meninggal_Akumulatif, Kepadatan Penduduk menurut Provinsi (jiwa/km2), Jumlah_Penduduk, Rasio_Kasus_Penduduk, Rasio_Meninggal_Penduduk, Rasio_Sembuh_Penduduk]\n",
      "Index: []\n"
     ]
    }
   ],
   "source": [
    "# Cek apakah filtered_data memiliki data setelah filter\n",
    "print(filtered_data.shape)\n",
    "print(filtered_data.head())\n"
   ]
  },
  {
   "cell_type": "code",
   "execution_count": 36,
   "id": "8450934d-d62f-485c-89f1-48246b7b4d09",
   "metadata": {},
   "outputs": [
    {
     "name": "stdout",
     "output_type": "stream",
     "text": [
      "Index(['Provinsi', 'Tanggal', 'Kasus_Terkonfirmasi_Akumulatif',\n",
      "       'Penambahan_Harian_Kasus_Terkonf', 'Kasus_Sembuh_Akumulatif',\n",
      "       'Kasus_Meninggal_Akumulatif',\n",
      "       'Kepadatan Penduduk menurut Provinsi (jiwa/km2)', 'Jumlah_Penduduk',\n",
      "       'Rasio_Kasus_Penduduk', 'Rasio_Meninggal_Penduduk',\n",
      "       'Rasio_Sembuh_Penduduk'],\n",
      "      dtype='object')\n"
     ]
    }
   ],
   "source": [
    "# Cek kolom yang ada setelah filter\n",
    "print(filtered_data.columns)\n"
   ]
  },
  {
   "cell_type": "code",
   "execution_count": 37,
   "id": "c8ebf36c-12ab-475f-b280-d57326e4f713",
   "metadata": {},
   "outputs": [
    {
     "name": "stdout",
     "output_type": "stream",
     "text": [
      "[]\n"
     ]
    }
   ],
   "source": [
    "# Menampilkan semua provinsi yang tersedia dalam dataset\n",
    "print(merged_data['Provinsi'].unique())\n"
   ]
  },
  {
   "cell_type": "code",
   "execution_count": 38,
   "id": "2fb0c6f3-7e19-4c76-aec3-bc37c618b85b",
   "metadata": {},
   "outputs": [
    {
     "name": "stdout",
     "output_type": "stream",
     "text": [
      "Data untuk provinsi yang dipilih tidak ditemukan.\n"
     ]
    }
   ],
   "source": [
    "if filtered_data.empty:\n",
    "    print(\"Data untuk provinsi yang dipilih tidak ditemukan.\")\n",
    "else:\n",
    "    # Lanjutkan proses clustering\n",
    "    scaled_features = scaler.fit_transform(filtered_data[features])\n"
   ]
  },
  {
   "cell_type": "code",
   "execution_count": 39,
   "id": "484f7045-bdb0-44f7-a755-b1d86bbe63f6",
   "metadata": {},
   "outputs": [
    {
     "name": "stdout",
     "output_type": "stream",
     "text": [
      "['Aceh' 'Bali' 'Banten' 'Kepulauan Bangka Belitung' 'Bengkulu'\n",
      " 'Daerah Istimewa Yogyakarta' 'DKI Jakarta' 'Jambi' 'Jawa Barat'\n",
      " 'Jawa Tengah' 'Jawa Timur' 'Kalimantan Barat' 'Kalimantan Timur'\n",
      " 'Kalimantan Tengah' 'Kalimantan Selatan' 'Kalimantan Utara'\n",
      " 'Kepulauan Riau' 'Nusa Tenggara Barat' 'Sumatera Selatan'\n",
      " 'Sumatera Barat' 'Sulawesi Utara' 'Sumatera Utara' 'Sulawesi Tenggara'\n",
      " 'Sulawesi Selatan' 'Sulawesi Tengah' 'Lampung' 'Riau' 'Maluku Utara'\n",
      " 'Maluku' 'Papua Barat' 'Papua' 'Sulawesi Barat' 'Nusa Tenggara Timur'\n",
      " 'Gorontalo' 'Indonesia' nan]\n",
      "[nan 'Aceh' 'Bali' 'Banten' 'Bengkulu' 'Daerah Istimewa Yogyakarta'\n",
      " 'DKI Jakarta' 'Gorontalo' 'INDONESIA' 'Jambi' 'Jawa Barat' 'Jawa Tengah'\n",
      " 'Jawa Timur' 'Kalimantan Barat' 'Kalimantan Selatan' 'Kalimantan Tengah'\n",
      " 'Kalimantan Timur' 'Kalimantan Utara' 'Kepulauan Bangka Belitung'\n",
      " 'Kepulauan Riau' 'Lampung' 'Maluku' 'Maluku Utara' 'Nusa Tenggara Barat'\n",
      " 'Nusa Tenggara Timur' 'Papua' 'Papua Barat' 'Riau' 'Sulawesi Barat'\n",
      " 'Sulawesi Selatan' 'Sulawesi Tengah' 'Sulawesi Tenggara' 'Sulawesi Utara'\n",
      " 'Sumatera Barat' 'Sumatera Selatan' 'Sumatera Utara'\n",
      " '\\nKepadatan dihitung berdasarkan jumlah penduduk dibagi dengan luas wilayah.Data tahun 2002 berdasarkan angka sementara estimasi penduduk dihitung dengan metode matematik. Tidak termasuk penduduk yang tidak bertempat tinggal tetapData tahun 2003, merupakan angka estimasi penduduk kondisi bulan Juni 2003Data tahun 2004, angka proyeksi penduduk IndonesiaData tahun 2005, Hasil Survei Penduduk Antar Sensus (SUPAS) 2005; kecuali Provinsi Nanggroe Aceh Darussalam, Kabupaten Nias dan Nias Selatan (di Provinsi Sumatera Utara) hasil Sensus Penduduk Aceh dan Nias (SPAN) 2005; Kabupaten Boven Digul dan Teluk Wondama (di Provinsi Papua) hasil estimasiData tahun 2007-2009, Hasil Proyeksi Penduduk, diolah dari hasil Survei Penduduk Antar Sensus (SUPAS) 2005Data tahun 2013-2015, Diolah dari Proyeksi Penduduk Indonesia 2010–2035, BPSData dikutip dari Publikasi Statistik IndonesiaData tahun 2019 dikutip dari simdasi.bps.go.id. Untuk Provinsi NTB, Sulawesi Tengah, dan Maluku menggunakan data tahun 2018 mengikuti angka Kepadatan Penduduk Kabupaten/Kota\\n\\n'\n",
      " 'Source Url: https://www.bps.go.id/indicator/12/141/1/kepadatan-penduduk-menurut-provinsi.html'\n",
      " 'Access Time: February 4, 2021, 12:12 pm']\n",
      "[nan 'ACEH' 'BALI' 'BANTEN' 'BENGKULU' 'DI YOGYAKARTA' 'DKI JAKARTA'\n",
      " 'GORONTALO' 'INDONESIA' 'JAMBI' 'JAWA BARAT' 'JAWA TENGAH' 'JAWA TIMUR'\n",
      " 'KALIMANTAN BARAT' 'KALIMANTAN SELATAN' 'KALIMANTAN TENGAH'\n",
      " 'KALIMANTAN TIMUR' 'KALIMANTAN UTARA' 'KEP. BANGKA BELITUNG' 'KEP. RIAU'\n",
      " 'LAMPUNG' 'MALUKU' 'MALUKU UTARA' 'NUSA TENGGARA BARAT'\n",
      " 'NUSA TENGGARA TIMUR' 'PAPUA' 'PAPUA BARAT' 'RIAU' 'SULAWESI BARAT'\n",
      " 'SULAWESI SELATAN' 'SULAWESI TENGAH' 'SULAWESI TENGGARA' 'SULAWESI UTARA'\n",
      " 'SUMATERA BARAT' 'SUMATERA SELATAN' 'SUMATERA UTARA'\n",
      " '\\nSumber : Proyeksi Penduduk Indonesia 2015 - 2045 Hasil SUPAS 2015\\nCatatan:\\n- Hasil Proyeksi Penduduk Indonesia 2015–2045 (Pertengahan tahun/Juni)\\n- Proyeksi dibuat dengan metode kohor komponen berdasarkan asumsi kecenderungan fertilitas, mortalitas, serta migrasi (migrasi internasional dan migrasi risen antar provinsi) yang paling mungkin terjadi selama periode 30 tahun yang akan datang.\\n'\n",
      " 'Source Url: https://www.bps.go.id/indicator/12/1886/1/jumlah-penduduk-hasil-proyeksi-menurut-provinsi-dan-jenis-kelamin.html'\n",
      " 'Access Time: February 4, 2021, 2:11 pm']\n"
     ]
    }
   ],
   "source": [
    "# Cek provinsi yang ada di setiap dataset sebelum merge\n",
    "print(statistik_covid['Provinsi'].unique())\n",
    "print(kepadatan_penduduk['Provinsi'].unique())\n",
    "print(jumlah_penduduk['Provinsi'].unique())\n"
   ]
  },
  {
   "cell_type": "code",
   "execution_count": 40,
   "id": "43dfb878-4e5c-4e9a-9c0c-c9d3a0811e7e",
   "metadata": {},
   "outputs": [
    {
     "name": "stdout",
     "output_type": "stream",
     "text": [
      "['Aceh' 'Bali' 'Banten' 'Kepulauan Bangka Belitung' 'Bengkulu'\n",
      " 'Daerah Istimewa Yogyakarta' 'Dki Jakarta' 'Jambi' 'Jawa Barat'\n",
      " 'Jawa Tengah' 'Jawa Timur' 'Kalimantan Barat' 'Kalimantan Timur'\n",
      " 'Kalimantan Tengah' 'Kalimantan Selatan' 'Kalimantan Utara'\n",
      " 'Kepulauan Riau' 'Nusa Tenggara Barat' 'Sumatera Selatan'\n",
      " 'Sumatera Barat' 'Sulawesi Utara' 'Sumatera Utara' 'Sulawesi Tenggara'\n",
      " 'Sulawesi Selatan' 'Sulawesi Tengah' 'Lampung' 'Riau' 'Maluku Utara'\n",
      " 'Maluku' 'Papua Barat' 'Papua' 'Sulawesi Barat' 'Nusa Tenggara Timur'\n",
      " 'Gorontalo' 'Indonesia']\n",
      "['Aceh' 'Bali' 'Banten' 'Bengkulu' 'Daerah Istimewa Yogyakarta'\n",
      " 'Dki Jakarta' 'Gorontalo' 'Indonesia' 'Jambi' 'Jawa Barat' 'Jawa Tengah'\n",
      " 'Jawa Timur' 'Kalimantan Barat' 'Kalimantan Selatan' 'Kalimantan Tengah'\n",
      " 'Kalimantan Timur' 'Kalimantan Utara' 'Kepulauan Bangka Belitung'\n",
      " 'Kepulauan Riau' 'Lampung' 'Maluku' 'Maluku Utara' 'Nusa Tenggara Barat'\n",
      " 'Nusa Tenggara Timur' 'Papua' 'Papua Barat' 'Riau' 'Sulawesi Barat'\n",
      " 'Sulawesi Selatan' 'Sulawesi Tengah' 'Sulawesi Tenggara' 'Sulawesi Utara'\n",
      " 'Sumatera Barat' 'Sumatera Selatan' 'Sumatera Utara']\n",
      "['Aceh' 'Bali' 'Banten' 'Bengkulu' 'Di Yogyakarta' 'Dki Jakarta'\n",
      " 'Gorontalo' 'Indonesia' 'Jambi' 'Jawa Barat' 'Jawa Tengah' 'Jawa Timur'\n",
      " 'Kalimantan Barat' 'Kalimantan Selatan' 'Kalimantan Tengah'\n",
      " 'Kalimantan Timur' 'Kalimantan Utara' 'Kep. Bangka Belitung' 'Kep. Riau'\n",
      " 'Lampung' 'Maluku' 'Maluku Utara' 'Nusa Tenggara Barat'\n",
      " 'Nusa Tenggara Timur' 'Papua' 'Papua Barat' 'Riau' 'Sulawesi Barat'\n",
      " 'Sulawesi Selatan' 'Sulawesi Tengah' 'Sulawesi Tenggara' 'Sulawesi Utara'\n",
      " 'Sumatera Barat' 'Sumatera Selatan' 'Sumatera Utara']\n"
     ]
    }
   ],
   "source": [
    "# Cek nama provinsi setelah normalisasi\n",
    "print(statistik_covid_cleaned['Provinsi'].unique())\n",
    "print(kepadatan_penduduk_cleaned['Provinsi'].unique())\n",
    "print(jumlah_penduduk_cleaned['Provinsi'].unique())\n"
   ]
  },
  {
   "cell_type": "code",
   "execution_count": 41,
   "id": "58b97c37-a88b-46d3-8851-c00251e58ce5",
   "metadata": {},
   "outputs": [
    {
     "name": "stdout",
     "output_type": "stream",
     "text": [
      "[]\n"
     ]
    }
   ],
   "source": [
    "# Cek hasil merge\n",
    "print(merged_data['Provinsi'].unique())\n"
   ]
  },
  {
   "cell_type": "code",
   "execution_count": 42,
   "id": "39fe6055-f778-4828-91eb-d59085301446",
   "metadata": {},
   "outputs": [
    {
     "name": "stdout",
     "output_type": "stream",
     "text": [
      "Data setelah merge kosong, periksa kesesuaian nama provinsi atau proses penggabungan.\n"
     ]
    }
   ],
   "source": [
    "if merged_data.empty:\n",
    "    print(\"Data setelah merge kosong, periksa kesesuaian nama provinsi atau proses penggabungan.\")\n",
    "else:\n",
    "    # Lanjutkan analisis\n",
    "    filtered_data = merged_data[merged_data['Provinsi'].isin([\"Jawa Timur\", \"Dki Jakarta\"])]\n",
    "    print(filtered_data.head())\n"
   ]
  },
  {
   "cell_type": "code",
   "execution_count": 43,
   "id": "47412f04-235b-4c12-9c7d-4b0b76446ade",
   "metadata": {},
   "outputs": [],
   "source": [
    "# Normalisasi nama provinsi menjadi format yang konsisten\n",
    "statistik_covid_cleaned['Provinsi'] = statistik_covid_cleaned['Provinsi'].str.strip().str.title()\n",
    "kepadatan_penduduk_cleaned['Provinsi'] = kepadatan_penduduk_cleaned['Provinsi'].str.strip().str.title()\n",
    "jumlah_penduduk_cleaned['Provinsi'] = jumlah_penduduk_cleaned['Provinsi'].str.strip().str.title()\n"
   ]
  },
  {
   "cell_type": "code",
   "execution_count": 44,
   "id": "02c4e524-58b8-44e0-b5ff-b1bd1f21a00f",
   "metadata": {},
   "outputs": [],
   "source": [
    "statistik_covid_cleaned = statistik_covid_cleaned[statistik_covid_cleaned['Provinsi'] != 'Indonesia']\n",
    "kepadatan_penduduk_cleaned = kepadatan_penduduk_cleaned[kepadatan_penduduk_cleaned['Provinsi'] != 'Indonesia']\n",
    "jumlah_penduduk_cleaned = jumlah_penduduk_cleaned[jumlah_penduduk_cleaned['Provinsi'] != 'Indonesia']\n",
    "\n",
    "statistik_covid_cleaned = statistik_covid_cleaned.dropna(subset=['Provinsi'])\n",
    "kepadatan_penduduk_cleaned = kepadatan_penduduk_cleaned.dropna(subset=['Provinsi'])\n",
    "jumlah_penduduk_cleaned = jumlah_penduduk_cleaned.dropna(subset=['Provinsi'])\n"
   ]
  },
  {
   "cell_type": "code",
   "execution_count": 45,
   "id": "4f4eed97-1f00-471d-b58f-0a81d33a38d4",
   "metadata": {},
   "outputs": [],
   "source": [
    "merged_data = pd.merge(statistik_covid_cleaned, kepadatan_penduduk_cleaned, on='Provinsi', how='inner')\n",
    "merged_data = pd.merge(merged_data, jumlah_penduduk_cleaned, on='Provinsi', how='inner')\n"
   ]
  },
  {
   "cell_type": "code",
   "execution_count": 47,
   "id": "d28fdd3b-fd83-436e-9c7f-dd49472f929e",
   "metadata": {},
   "outputs": [
    {
     "ename": "UnicodeDecodeError",
     "evalue": "'utf-8' codec can't decode byte 0xa4 in position 14: invalid start byte",
     "output_type": "error",
     "traceback": [
      "\u001b[1;31m---------------------------------------------------------------------------\u001b[0m",
      "\u001b[1;31mUnicodeDecodeError\u001b[0m                        Traceback (most recent call last)",
      "Cell \u001b[1;32mIn[47], line 10\u001b[0m\n\u001b[0;32m      8\u001b[0m \u001b[38;5;66;03m# Memuat dataset\u001b[39;00m\n\u001b[0;32m      9\u001b[0m statistik_covid \u001b[38;5;241m=\u001b[39m pd\u001b[38;5;241m.\u001b[39mread_csv(\u001b[38;5;124m\"\u001b[39m\u001b[38;5;124mStatistik_Harian_per_Provinsi_COVID19_Indonesia_Rev.csv\u001b[39m\u001b[38;5;124m\"\u001b[39m)\n\u001b[1;32m---> 10\u001b[0m kepadatan_penduduk \u001b[38;5;241m=\u001b[39m \u001b[43mpd\u001b[49m\u001b[38;5;241;43m.\u001b[39;49m\u001b[43mread_csv\u001b[49m\u001b[43m(\u001b[49m\u001b[38;5;124;43m\"\u001b[39;49m\u001b[38;5;124;43mKepadatan Penduduk menurut Provinsi.xlsx\u001b[39;49m\u001b[38;5;124;43m\"\u001b[39;49m\u001b[43m)\u001b[49m\n\u001b[0;32m     11\u001b[0m jumlah_penduduk \u001b[38;5;241m=\u001b[39m pd\u001b[38;5;241m.\u001b[39mread_csv(\u001b[38;5;124m\"\u001b[39m\u001b[38;5;124mJumlah Penduduk.xlsx\u001b[39m\u001b[38;5;124m\"\u001b[39m)\n\u001b[0;32m     13\u001b[0m \u001b[38;5;66;03m# Normalisasi nama provinsi di setiap dataset\u001b[39;00m\n",
      "File \u001b[1;32m~\\AppData\\Local\\Programs\\Python\\Python312\\Lib\\site-packages\\pandas\\io\\parsers\\readers.py:1026\u001b[0m, in \u001b[0;36mread_csv\u001b[1;34m(filepath_or_buffer, sep, delimiter, header, names, index_col, usecols, dtype, engine, converters, true_values, false_values, skipinitialspace, skiprows, skipfooter, nrows, na_values, keep_default_na, na_filter, verbose, skip_blank_lines, parse_dates, infer_datetime_format, keep_date_col, date_parser, date_format, dayfirst, cache_dates, iterator, chunksize, compression, thousands, decimal, lineterminator, quotechar, quoting, doublequote, escapechar, comment, encoding, encoding_errors, dialect, on_bad_lines, delim_whitespace, low_memory, memory_map, float_precision, storage_options, dtype_backend)\u001b[0m\n\u001b[0;32m   1013\u001b[0m kwds_defaults \u001b[38;5;241m=\u001b[39m _refine_defaults_read(\n\u001b[0;32m   1014\u001b[0m     dialect,\n\u001b[0;32m   1015\u001b[0m     delimiter,\n\u001b[1;32m   (...)\u001b[0m\n\u001b[0;32m   1022\u001b[0m     dtype_backend\u001b[38;5;241m=\u001b[39mdtype_backend,\n\u001b[0;32m   1023\u001b[0m )\n\u001b[0;32m   1024\u001b[0m kwds\u001b[38;5;241m.\u001b[39mupdate(kwds_defaults)\n\u001b[1;32m-> 1026\u001b[0m \u001b[38;5;28;01mreturn\u001b[39;00m \u001b[43m_read\u001b[49m\u001b[43m(\u001b[49m\u001b[43mfilepath_or_buffer\u001b[49m\u001b[43m,\u001b[49m\u001b[43m \u001b[49m\u001b[43mkwds\u001b[49m\u001b[43m)\u001b[49m\n",
      "File \u001b[1;32m~\\AppData\\Local\\Programs\\Python\\Python312\\Lib\\site-packages\\pandas\\io\\parsers\\readers.py:620\u001b[0m, in \u001b[0;36m_read\u001b[1;34m(filepath_or_buffer, kwds)\u001b[0m\n\u001b[0;32m    617\u001b[0m _validate_names(kwds\u001b[38;5;241m.\u001b[39mget(\u001b[38;5;124m\"\u001b[39m\u001b[38;5;124mnames\u001b[39m\u001b[38;5;124m\"\u001b[39m, \u001b[38;5;28;01mNone\u001b[39;00m))\n\u001b[0;32m    619\u001b[0m \u001b[38;5;66;03m# Create the parser.\u001b[39;00m\n\u001b[1;32m--> 620\u001b[0m parser \u001b[38;5;241m=\u001b[39m \u001b[43mTextFileReader\u001b[49m\u001b[43m(\u001b[49m\u001b[43mfilepath_or_buffer\u001b[49m\u001b[43m,\u001b[49m\u001b[43m \u001b[49m\u001b[38;5;241;43m*\u001b[39;49m\u001b[38;5;241;43m*\u001b[39;49m\u001b[43mkwds\u001b[49m\u001b[43m)\u001b[49m\n\u001b[0;32m    622\u001b[0m \u001b[38;5;28;01mif\u001b[39;00m chunksize \u001b[38;5;129;01mor\u001b[39;00m iterator:\n\u001b[0;32m    623\u001b[0m     \u001b[38;5;28;01mreturn\u001b[39;00m parser\n",
      "File \u001b[1;32m~\\AppData\\Local\\Programs\\Python\\Python312\\Lib\\site-packages\\pandas\\io\\parsers\\readers.py:1620\u001b[0m, in \u001b[0;36mTextFileReader.__init__\u001b[1;34m(self, f, engine, **kwds)\u001b[0m\n\u001b[0;32m   1617\u001b[0m     \u001b[38;5;28mself\u001b[39m\u001b[38;5;241m.\u001b[39moptions[\u001b[38;5;124m\"\u001b[39m\u001b[38;5;124mhas_index_names\u001b[39m\u001b[38;5;124m\"\u001b[39m] \u001b[38;5;241m=\u001b[39m kwds[\u001b[38;5;124m\"\u001b[39m\u001b[38;5;124mhas_index_names\u001b[39m\u001b[38;5;124m\"\u001b[39m]\n\u001b[0;32m   1619\u001b[0m \u001b[38;5;28mself\u001b[39m\u001b[38;5;241m.\u001b[39mhandles: IOHandles \u001b[38;5;241m|\u001b[39m \u001b[38;5;28;01mNone\u001b[39;00m \u001b[38;5;241m=\u001b[39m \u001b[38;5;28;01mNone\u001b[39;00m\n\u001b[1;32m-> 1620\u001b[0m \u001b[38;5;28mself\u001b[39m\u001b[38;5;241m.\u001b[39m_engine \u001b[38;5;241m=\u001b[39m \u001b[38;5;28;43mself\u001b[39;49m\u001b[38;5;241;43m.\u001b[39;49m\u001b[43m_make_engine\u001b[49m\u001b[43m(\u001b[49m\u001b[43mf\u001b[49m\u001b[43m,\u001b[49m\u001b[43m \u001b[49m\u001b[38;5;28;43mself\u001b[39;49m\u001b[38;5;241;43m.\u001b[39;49m\u001b[43mengine\u001b[49m\u001b[43m)\u001b[49m\n",
      "File \u001b[1;32m~\\AppData\\Local\\Programs\\Python\\Python312\\Lib\\site-packages\\pandas\\io\\parsers\\readers.py:1898\u001b[0m, in \u001b[0;36mTextFileReader._make_engine\u001b[1;34m(self, f, engine)\u001b[0m\n\u001b[0;32m   1895\u001b[0m     \u001b[38;5;28;01mraise\u001b[39;00m \u001b[38;5;167;01mValueError\u001b[39;00m(msg)\n\u001b[0;32m   1897\u001b[0m \u001b[38;5;28;01mtry\u001b[39;00m:\n\u001b[1;32m-> 1898\u001b[0m     \u001b[38;5;28;01mreturn\u001b[39;00m \u001b[43mmapping\u001b[49m\u001b[43m[\u001b[49m\u001b[43mengine\u001b[49m\u001b[43m]\u001b[49m\u001b[43m(\u001b[49m\u001b[43mf\u001b[49m\u001b[43m,\u001b[49m\u001b[43m \u001b[49m\u001b[38;5;241;43m*\u001b[39;49m\u001b[38;5;241;43m*\u001b[39;49m\u001b[38;5;28;43mself\u001b[39;49m\u001b[38;5;241;43m.\u001b[39;49m\u001b[43moptions\u001b[49m\u001b[43m)\u001b[49m\n\u001b[0;32m   1899\u001b[0m \u001b[38;5;28;01mexcept\u001b[39;00m \u001b[38;5;167;01mException\u001b[39;00m:\n\u001b[0;32m   1900\u001b[0m     \u001b[38;5;28;01mif\u001b[39;00m \u001b[38;5;28mself\u001b[39m\u001b[38;5;241m.\u001b[39mhandles \u001b[38;5;129;01mis\u001b[39;00m \u001b[38;5;129;01mnot\u001b[39;00m \u001b[38;5;28;01mNone\u001b[39;00m:\n",
      "File \u001b[1;32m~\\AppData\\Local\\Programs\\Python\\Python312\\Lib\\site-packages\\pandas\\io\\parsers\\c_parser_wrapper.py:93\u001b[0m, in \u001b[0;36mCParserWrapper.__init__\u001b[1;34m(self, src, **kwds)\u001b[0m\n\u001b[0;32m     90\u001b[0m \u001b[38;5;28;01mif\u001b[39;00m kwds[\u001b[38;5;124m\"\u001b[39m\u001b[38;5;124mdtype_backend\u001b[39m\u001b[38;5;124m\"\u001b[39m] \u001b[38;5;241m==\u001b[39m \u001b[38;5;124m\"\u001b[39m\u001b[38;5;124mpyarrow\u001b[39m\u001b[38;5;124m\"\u001b[39m:\n\u001b[0;32m     91\u001b[0m     \u001b[38;5;66;03m# Fail here loudly instead of in cython after reading\u001b[39;00m\n\u001b[0;32m     92\u001b[0m     import_optional_dependency(\u001b[38;5;124m\"\u001b[39m\u001b[38;5;124mpyarrow\u001b[39m\u001b[38;5;124m\"\u001b[39m)\n\u001b[1;32m---> 93\u001b[0m \u001b[38;5;28mself\u001b[39m\u001b[38;5;241m.\u001b[39m_reader \u001b[38;5;241m=\u001b[39m \u001b[43mparsers\u001b[49m\u001b[38;5;241;43m.\u001b[39;49m\u001b[43mTextReader\u001b[49m\u001b[43m(\u001b[49m\u001b[43msrc\u001b[49m\u001b[43m,\u001b[49m\u001b[43m \u001b[49m\u001b[38;5;241;43m*\u001b[39;49m\u001b[38;5;241;43m*\u001b[39;49m\u001b[43mkwds\u001b[49m\u001b[43m)\u001b[49m\n\u001b[0;32m     95\u001b[0m \u001b[38;5;28mself\u001b[39m\u001b[38;5;241m.\u001b[39munnamed_cols \u001b[38;5;241m=\u001b[39m \u001b[38;5;28mself\u001b[39m\u001b[38;5;241m.\u001b[39m_reader\u001b[38;5;241m.\u001b[39munnamed_cols\n\u001b[0;32m     97\u001b[0m \u001b[38;5;66;03m# error: Cannot determine type of 'names'\u001b[39;00m\n",
      "File \u001b[1;32mparsers.pyx:574\u001b[0m, in \u001b[0;36mpandas._libs.parsers.TextReader.__cinit__\u001b[1;34m()\u001b[0m\n",
      "File \u001b[1;32mparsers.pyx:663\u001b[0m, in \u001b[0;36mpandas._libs.parsers.TextReader._get_header\u001b[1;34m()\u001b[0m\n",
      "File \u001b[1;32mparsers.pyx:874\u001b[0m, in \u001b[0;36mpandas._libs.parsers.TextReader._tokenize_rows\u001b[1;34m()\u001b[0m\n",
      "File \u001b[1;32mparsers.pyx:891\u001b[0m, in \u001b[0;36mpandas._libs.parsers.TextReader._check_tokenize_status\u001b[1;34m()\u001b[0m\n",
      "File \u001b[1;32mparsers.pyx:2053\u001b[0m, in \u001b[0;36mpandas._libs.parsers.raise_parser_error\u001b[1;34m()\u001b[0m\n",
      "File \u001b[1;32m<frozen codecs>:322\u001b[0m, in \u001b[0;36mdecode\u001b[1;34m(self, input, final)\u001b[0m\n",
      "\u001b[1;31mUnicodeDecodeError\u001b[0m: 'utf-8' codec can't decode byte 0xa4 in position 14: invalid start byte"
     ]
    }
   ],
   "source": [
    "import pandas as pd\n",
    "\n",
    "# Normalisasi nama provinsi untuk memastikan format yang konsisten\n",
    "def normalize_provinsi(df):\n",
    "    df['Provinsi'] = df['Provinsi'].str.strip().str.title()  # Strip whitespace dan ubah ke format title\n",
    "    return df\n",
    "\n",
    "# Memuat dataset\n",
    "statistik_covid = pd.read_csv(\"Statistik_Harian_per_Provinsi_COVID19_Indonesia_Rev.csv\")\n",
    "kepadatan_penduduk = pd.read_csv(\"Kepadatan Penduduk menurut Provinsi.xlsx\")\n",
    "jumlah_penduduk = pd.read_csv(\"Jumlah Penduduk.xlsx\")\n",
    "\n",
    "# Normalisasi nama provinsi di setiap dataset\n",
    "statistik_covid_cleaned = normalize_provinsi(statistik_covid)\n",
    "kepadatan_penduduk_cleaned = normalize_provinsi(kepadatan_penduduk)\n",
    "jumlah_penduduk_cleaned = normalize_provinsi(jumlah_penduduk)\n",
    "\n",
    "# Menghapus baris dengan nilai 'Indonesia' atau NaN di kolom 'Provinsi'\n",
    "statistik_covid_cleaned = statistik_covid_cleaned[statistik_covid_cleaned['Provinsi'] != 'Indonesia']\n",
    "kepadatan_penduduk_cleaned = kepadatan_penduduk_cleaned[kepadatan_penduduk_cleaned['Provinsi'] != 'Indonesia']\n",
    "jumlah_penduduk_cleaned = jumlah_penduduk_cleaned[jumlah_penduduk_cleaned['Provinsi'] != 'Indonesia']\n",
    "\n",
    "statistik_covid_cleaned = statistik_covid_cleaned.dropna(subset=['Provinsi'])\n",
    "kepadatan_penduduk_cleaned = kepadatan_penduduk_cleaned.dropna(subset=['Provinsi'])\n",
    "jumlah_penduduk_cleaned = jumlah_penduduk_cleaned.dropna(subset=['Provinsi'])\n",
    "\n",
    "# Periksa nama provinsi setelah normalisasi\n",
    "print(\"Provinsi di statistik_covid_cleaned:\")\n",
    "print(statistik_covid_cleaned['Provinsi'].unique())\n",
    "\n",
    "print(\"Provinsi di kepadatan_penduduk_cleaned:\")\n",
    "print(kepadatan_penduduk_cleaned['Provinsi'].unique())\n",
    "\n",
    "print(\"Provinsi di jumlah_penduduk_cleaned:\")\n",
    "print(jumlah_penduduk_cleaned['Provinsi'].unique())\n",
    "\n",
    "# Merge data\n",
    "merged_data = pd.merge(statistik_covid_cleaned, kepadatan_penduduk_cleaned, on='Provinsi', how='inner')\n",
    "merged_data = pd.merge(merged_data, jumlah_penduduk_cleaned, on='Provinsi', how='inner')\n",
    "\n",
    "# Cek hasil merge\n",
    "if merged_data.empty:\n",
    "    print(\"Data setelah merge kosong, periksa kesesuaian nama provinsi atau proses penggabungan.\")\n",
    "else:\n",
    "    # Lanjutkan analisis\n",
    "    filtered_data = merged_data[merged_data['Provinsi'].isin([\"Jawa Timur\", \"Dki Jakarta\"])]\n",
    "    print(filtered_data.head())\n"
   ]
  },
  {
   "cell_type": "code",
   "execution_count": null,
   "id": "920f51a5-9e49-45dc-8697-d88e1be6c517",
   "metadata": {},
   "outputs": [],
   "source": []
  }
 ],
 "metadata": {
  "kernelspec": {
   "display_name": "Python 3 (ipykernel)",
   "language": "python",
   "name": "python3"
  },
  "language_info": {
   "codemirror_mode": {
    "name": "ipython",
    "version": 3
   },
   "file_extension": ".py",
   "mimetype": "text/x-python",
   "name": "python",
   "nbconvert_exporter": "python",
   "pygments_lexer": "ipython3",
   "version": "3.12.2"
  }
 },
 "nbformat": 4,
 "nbformat_minor": 5
}
